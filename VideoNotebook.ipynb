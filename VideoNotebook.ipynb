{
 "cells": [
  {
   "cell_type": "markdown",
   "metadata": {},
   "source": [
    "# StreetFighter"
   ]
  },
  {
   "cell_type": "markdown",
   "metadata": {},
   "source": [
    "# Save Model Progress To Video"
   ]
  },
  {
   "cell_type": "code",
   "execution_count": 1,
   "metadata": {},
   "outputs": [],
   "source": [
    "# from StreetFighter_env import StreetFighter\n",
    "import retro\n",
    "from stable_baselines3 import PPO\n",
    "from stable_baselines3.common.monitor import Monitor\n",
    "from stable_baselines3.common.vec_env import DummyVecEnv\n",
    "import os"
   ]
  },
  {
   "cell_type": "code",
   "execution_count": 2,
   "metadata": {},
   "outputs": [],
   "source": [
    "from gymnasium import Env\n",
    "from gymnasium.spaces import Box, MultiBinary\n",
    "import numpy as np\n",
    "import cv2\n",
    "import random\n"
   ]
  },
  {
   "cell_type": "code",
   "execution_count": 3,
   "metadata": {},
   "outputs": [],
   "source": [
    "VIDEO_FOLDER = \"./videos/\"\n",
    "VIDEO_EVERY_N_EPISODES = 1\n",
    "os.makedirs(VIDEO_FOLDER, exist_ok=True)"
   ]
  },
  {
   "cell_type": "code",
   "execution_count": 4,
   "metadata": {},
   "outputs": [],
   "source": [
    "class StreetFighter(Env):\n",
    "    # Constructor now accepts savestates and render_mode\n",
    "    def __init__(self, savestates=None):\n",
    "        super().__init__()\n",
    "        \n",
    "        # Define observation and action spaces\n",
    "        self.observation_space = Box(low=0, high=255, shape=(84, 84, 1), dtype=np.uint8)\n",
    "        self.action_space = MultiBinary(12)\n",
    "        \n",
    "        \n",
    "        # Initialize the game instance, passing render_mode to retro.make\n",
    "        self.game = retro.make(\n",
    "            game='StreetFighterIISpecialChampionEdition-Genesis',\n",
    "            use_restricted_actions=retro.Actions.FILTERED,\n",
    "            record=\"./videos\"\n",
    "        )\n",
    "        \n",
    "        # Store the list of savestates for random initialization\n",
    "        # Ensure it's always a list, even if None is passed\n",
    "        self.savestates = savestates if savestates is not None else []\n",
    "        \n",
    "        # Initialize attributes that will be used in step and reset\n",
    "        self.previous_frame = None\n",
    "        self.score = 0\n",
    "\n",
    "    # The single, correct reset method\n",
    "    # It accepts seed and options for Gymnasium API compatibility\n",
    "    def reset(self, seed=None, options=None):\n",
    "        # Set seed for reproducibility if provided\n",
    "        if seed is not None:\n",
    "            random.seed(seed)\n",
    "            np.random.seed(seed)\n",
    "\n",
    "        # Randomly choose a savestate if any are provided\n",
    "        if self.savestates:\n",
    "            selected_state = random.choice(self.savestates)\n",
    "            self.game.load_state(selected_state) \n",
    "            # Get the screen after loading the state\n",
    "            obs = self.game.get_screen()\n",
    "            # print(f\"Loaded savestate: {selected_state}\")\n",
    "        else:\n",
    "            # Fallback to default game reset if no savestates are configured\n",
    "            obs = self.game.reset() # retro.reset() returns the initial observation\n",
    "            # print(\"Resetting to default game start.\")\n",
    "\n",
    "        # Preprocess the initial observation\n",
    "        obs = self.preprocess(obs)\n",
    "        self.previous_frame = obs # Store for frame delta calculation\n",
    "\n",
    "        # Reset score for the new episode\n",
    "        self.score = 0\n",
    "\n",
    "        # Gymnasium API requires returning observation and an info dictionary\n",
    "        return obs, {} # Return obs and an empty info dict\n",
    "\n",
    "    def preprocess(self, observation):\n",
    "        # Grayscaling\n",
    "        gray = cv2.cvtColor(observation, cv2.COLOR_BGR2GRAY)\n",
    "        # Resize to 84x84\n",
    "        resize = cv2.resize(gray, (84, 84), interpolation=cv2.INTER_CUBIC)\n",
    "        # Add a channel dimension (84, 84, 1)\n",
    "        channels = np.reshape(resize, (84, 84, 1))\n",
    "        return channels\n",
    "\n",
    "    # The step method, returning 5 values as per Gymnasium API\n",
    "    def step(self, action):\n",
    "        # Take a step in the game\n",
    "        # retro.step returns obs, reward, done, info (4 values)\n",
    "        obs, reward, done, info = self.game.step(action)\n",
    "        obs = self.preprocess(obs)\n",
    "\n",
    "        # Calculate frame delta\n",
    "        # Ensure previous_frame is initialized (should be by reset)\n",
    "        if self.previous_frame is None: # Fallback, should not happen if reset is called\n",
    "            self.previous_frame = np.zeros_like(obs)\n",
    "        frame_delta = obs - self.previous_frame\n",
    "        self.previous_frame = obs # Update previous frame for next step\n",
    "\n",
    "        # Reshape the reward based on score delta\n",
    "        current_score = info['score']\n",
    "        step_reward = current_score - self.score\n",
    "        self.score = current_score # Update current score\n",
    "\n",
    "        # Gymnasium API expects 5 return values: obs, reward, terminated, truncated, info\n",
    "        # 'done' from retro typically means the episode is terminated (game over)\n",
    "        terminated = done\n",
    "        truncated = False # Set to True if episode ends due to time limit or other non-game-over reason\n",
    "\n",
    "        return frame_delta, step_reward, terminated, truncated, info\n",
    "\n",
    "    # The render method\n",
    "    # It will return an rgb_array if render_mode='rgb_array' was set in __init__\n",
    "    # Otherwise, it will return None (or handle display if render_mode='human')\n",
    "    def render(self, *args, **kwargs):\n",
    "        if self.render_mode is not None:\n",
    "            return self.game.render()\n",
    "        return None # Return None if no render_mode is set or if it's not 'rgb_array'\n",
    "\n",
    "\n",
    "\n",
    "    def close(self):\n",
    "        self.game.close()"
   ]
  },
  {
   "cell_type": "code",
   "execution_count": 5,
   "metadata": {},
   "outputs": [
    {
     "name": "stderr",
     "output_type": "stream",
     "text": [
      "c:\\Users\\james\\anaconda3\\envs\\gym\\lib\\site-packages\\stable_baselines3\\common\\save_util.py:437: FutureWarning: You are using `torch.load` with `weights_only=False` (the current default value), which uses the default pickle module implicitly. It is possible to construct malicious pickle data which will execute arbitrary code during unpickling (See https://github.com/pytorch/pytorch/blob/main/SECURITY.md#untrusted-models for more details). In a future release, the default value for `weights_only` will be flipped to `True`. This limits the functions that could be executed during unpickling. Arbitrary objects will no longer be allowed to be loaded via this mode unless they are explicitly allowlisted by the user via `torch.serialization.add_safe_globals`. We recommend you start setting `weights_only=True` for any use case where you don't have full control of the loaded file. Please open an issue on GitHub for any issues related to this experimental feature.\n",
      "  th_object = th.load(file_content, map_location=device)\n"
     ]
    }
   ],
   "source": [
    "model = PPO.load('./train/model_5M.zip')\n",
    "env = StreetFighter()"
   ]
  },
  {
   "cell_type": "code",
   "execution_count": 6,
   "metadata": {},
   "outputs": [
    {
     "name": "stdout",
     "output_type": "stream",
     "text": [
      "Environment wrapped with Monitor and DummyVecEnv.\n"
     ]
    }
   ],
   "source": [
    "# env = Monitor(env) # Keep Monitor for logging, if desired\n",
    "env = DummyVecEnv([lambda: env])\n",
    "print(\"Environment wrapped with Monitor and DummyVecEnv.\")\n"
   ]
  },
  {
   "cell_type": "code",
   "execution_count": 7,
   "metadata": {},
   "outputs": [],
   "source": [
    "num_episodes = 3  # Number of test episodes to run\n",
    "num_steps_per_episode = 8000"
   ]
  },
  {
   "cell_type": "code",
   "execution_count": 8,
   "metadata": {},
   "outputs": [
    {
     "name": "stdout",
     "output_type": "stream",
     "text": [
      "Starting testing...\n",
      "--- Episode 1 ---\n",
      "--- Episode 2 ---\n",
      "--- Episode 3 ---\n",
      "Testing finished. Closing environment.\n",
      "Environment closed. Video(s) should be in the ./videos/ folder.\n"
     ]
    }
   ],
   "source": [
    "print(\"Starting testing...\")\n",
    "for episode in range(num_episodes):\n",
    "    obs = env.reset()\n",
    "    done = False\n",
    "    total_reward = 0\n",
    "    step = 0\n",
    "    print(f\"--- Episode {episode + 1} ---\")\n",
    "    while not done and step < num_steps_per_episode:\n",
    "        action, _ = model.predict(obs, deterministic=True)\n",
    "        obs, reward, done, info = env.step(action)\n",
    "        total_reward += reward\n",
    "        step += 1\n",
    "\n",
    "print(\"Testing finished. Closing environment.\")\n",
    "env.close()\n",
    "print(\"Environment closed. Video(s) should be in the ./videos/ folder.\")\n"
   ]
  },
  {
   "cell_type": "markdown",
   "metadata": {},
   "source": [
    "# Playback"
   ]
  },
  {
   "cell_type": "code",
   "execution_count": 9,
   "metadata": {},
   "outputs": [],
   "source": [
    "env.close()"
   ]
  },
  {
   "cell_type": "code",
   "execution_count": 10,
   "metadata": {},
   "outputs": [],
   "source": [
    "movie = retro.Movie('./videos/StreetFighterIISpecialChampionEdition-Genesis-Champion.Level1.RyuVsGuile-000000.bk2')\n",
    "movie.step()\n",
    "\n",
    "env = retro.make(\n",
    "    game=movie.get_game(),\n",
    "    state=None,\n",
    "    # bk2s can contain any button presses, so allow everything\n",
    "    use_restricted_actions=retro.Actions.ALL,\n",
    "    players=movie.players,\n",
    ")\n",
    "env.initial_state = movie.get_state()\n",
    "env.reset()\n",
    "\n",
    "while movie.step():\n",
    "    keys = []\n",
    "    for p in range(movie.players):\n",
    "        for i in range(env.num_buttons):\n",
    "            keys.append(movie.get_key(i, p))\n",
    "    env.step(keys)"
   ]
  },
  {
   "cell_type": "code",
   "execution_count": 13,
   "metadata": {},
   "outputs": [
    {
     "name": "stdout",
     "output_type": "stream",
     "text": [
      "^C\n"
     ]
    }
   ],
   "source": [
    "#converts playback to MP4\n",
    "!python -m retro.scripts.playback_movie ./videos/StreetFighterIISpecialChampionEdition-Genesis-Champion.Level1.RyuVsGuile-000005.bk2"
   ]
  }
 ],
 "metadata": {
  "kernelspec": {
   "display_name": "gym",
   "language": "python",
   "name": "python3"
  },
  "language_info": {
   "codemirror_mode": {
    "name": "ipython",
    "version": 3
   },
   "file_extension": ".py",
   "mimetype": "text/x-python",
   "name": "python",
   "nbconvert_exporter": "python",
   "pygments_lexer": "ipython3",
   "version": "3.8.16"
  }
 },
 "nbformat": 4,
 "nbformat_minor": 4
}
